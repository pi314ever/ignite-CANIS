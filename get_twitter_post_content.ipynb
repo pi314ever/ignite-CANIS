{
 "cells": [
  {
   "cell_type": "code",
   "execution_count": null,
   "id": "beec90a4",
   "metadata": {},
   "outputs": [],
   "source": [
    "from selenium import webdriver\n",
    "from selenium.webdriver.common.by import By\n",
    "import time\n",
    "from selenium.webdriver.common.keys import Keys\n",
    "from selenium.webdriver.support.ui import WebDriverWait\n",
    "from selenium.webdriver.support import expected_conditions as EC"
   ]
  },
  {
   "cell_type": "code",
   "execution_count": null,
   "id": "4f76fc78",
   "metadata": {},
   "outputs": [],
   "source": [
    "def get_content(driver, username):\n",
    "    driver.get(f'https://twitter.com/{username}')\n",
    "    time.sleep(20)  # Let the page load\n",
    "\n",
    "    body = driver.find_element(By.TAG_NAME,'body')\n",
    "\n",
    "    section = WebDriverWait(driver, 5).until(EC.presence_of_element_located((By.TAG_NAME,'section')))\n",
    "    num_post_to_scrape=250\n",
    "    i=0\n",
    "    data=[{'post':\"\"}]\n",
    "    content_check=[]\n",
    "    # Scroll until the desired number of followers is reached\n",
    "    while i < num_post_to_scrape:\n",
    "        body.send_keys(Keys.PAGE_DOWN)\n",
    "        i+=1\n",
    "        time.sleep(2)\n",
    "        post=WebDriverWait(driver, 5).until(EC.presence_of_element_located((By.XPATH,'//div[@data-testid=\"cellInnerDiv\"]')))\n",
    "        #post = section.find_element(By.XPATH,'//div[@data-testid=\"cellInnerDiv\"]')\n",
    "        content=WebDriverWait(driver, 5).until(EC.presence_of_element_located((By.XPATH,'//div[@data-testid=\"tweetText\"]')))\n",
    "        #content=post.find_element(By.XPATH,'//div[@data-testid=\"tweetText\"]')\n",
    "        content_check.append(content.text.strip())\n",
    "\n",
    "        if (content.text.strip()!=data[-1]['post']):\n",
    "            #likes=post.find_element(By.XPATH,'//div[@role=\"group\"]')\n",
    "            likes=WebDriverWait(driver, 5).until(EC.presence_of_element_located((By.XPATH,'//div[@role=\"group\"]')))\n",
    "            engagement=likes.get_attribute('aria-label')\n",
    "            eng_=engagement.split(\",\")\n",
    "            eng_=list(map(lambda x:x.split(),eng_))\n",
    "            eng_={v:int(k) for k,v in eng_}\n",
    "            print(eng_)\n",
    "            for e in ['comments','likes','reposts','bookmarks','views']:\n",
    "                if e not in eng_:\n",
    "                    eng_[e]=0\n",
    "            eng_['post']=content.text.strip()\n",
    "            data.append(eng_)\n",
    "            #engagement_dict={}\n",
    "            time.sleep(1)  # Adjust sleep time based on your internet speed\n",
    "\n",
    "    return data"
   ]
  },
  {
   "cell_type": "code",
   "execution_count": null,
   "id": "58a15b31",
   "metadata": {},
   "outputs": [],
   "source": [
    "# Replace 'target_account' with the username of the account you want to analyze\n",
    "target_account = '_bubblyabby_'\n",
    "\n",
    "# Set up the Selenium WebDriver\n",
    "driver = webdriver.Chrome()\n",
    "\n",
    "# Get the number of followers for the target account\n",
    "target_engagement = get_content(driver, target_account)"
   ]
  },
  {
   "cell_type": "code",
   "execution_count": null,
   "id": "50d79fb3",
   "metadata": {},
   "outputs": [],
   "source": [
    "len(target_engagement)"
   ]
  },
  {
   "cell_type": "code",
   "execution_count": null,
   "id": "8bd73a71",
   "metadata": {},
   "outputs": [],
   "source": []
  }
 ],
 "metadata": {
  "kernelspec": {
   "display_name": "Python 3 (ipykernel)",
   "language": "python",
   "name": "python3"
  },
  "language_info": {
   "codemirror_mode": {
    "name": "ipython",
    "version": 3
   },
   "file_extension": ".py",
   "mimetype": "text/x-python",
   "name": "python",
   "nbconvert_exporter": "python",
   "pygments_lexer": "ipython3",
   "version": "3.9.13"
  },
  "toc": {
   "base_numbering": 1,
   "nav_menu": {},
   "number_sections": true,
   "sideBar": true,
   "skip_h1_title": false,
   "title_cell": "Table of Contents",
   "title_sidebar": "Contents",
   "toc_cell": false,
   "toc_position": {},
   "toc_section_display": true,
   "toc_window_display": false
  }
 },
 "nbformat": 4,
 "nbformat_minor": 5
}
