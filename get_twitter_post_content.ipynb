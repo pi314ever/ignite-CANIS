{
 "cells": [
  {
   "cell_type": "code",
   "execution_count": 2,
   "id": "beec90a4",
   "metadata": {},
   "outputs": [],
   "source": [
    "from selenium import webdriver\n",
    "from selenium.webdriver.common.by import By\n",
    "import time\n",
    "from selenium.webdriver.common.keys import Keys\n",
    "from selenium.webdriver.support.ui import WebDriverWait \n",
    "from selenium.webdriver.support import expected_conditions as EC\n",
    "from textblob import TextBlob\n",
    "import pandas as pd\n",
    "import numpy as np\n",
    "import json\n",
    "import os\n",
    "from dotenv import load_dotenv\n"
   ]
  },
  {
   "cell_type": "code",
   "execution_count": 41,
   "id": "fa363571",
   "metadata": {},
   "outputs": [],
   "source": [
    "df=pd.read_excel(\"CANIS_PRC_state_media_on_social_media_platforms-2023-11-03.xlsx\")"
   ]
  },
  {
   "cell_type": "code",
   "execution_count": 42,
   "id": "33181b2e",
   "metadata": {},
   "outputs": [],
   "source": [
    "df=df[((df['Region of Focus']=='Anglosphere')|(df['Region of Focus']=='Canada'))]"
   ]
  },
  {
   "cell_type": "code",
   "execution_count": 43,
   "id": "810a7a12",
   "metadata": {},
   "outputs": [],
   "source": [
    "handles=df['X (Twitter) handle'].values\n",
    "accounts=[h for h in handles if isinstance(h,str) ]"
   ]
  },
  {
   "cell_type": "code",
   "execution_count": 44,
   "id": "c9737894",
   "metadata": {},
   "outputs": [],
   "source": [
    "accounts.remove(\"anosiwang\")"
   ]
  },
  {
   "cell_type": "code",
   "execution_count": 39,
   "id": "caf2f7bd",
   "metadata": {},
   "outputs": [],
   "source": [
    "if os.path.exists(\"data.json\"):\n",
    "    with open('data.json', 'r') as json_file:\n",
    "        existing_data = json.load(json_file)\n",
    "    existing_accounts=list(existing_data.keys())\n",
    "    accounts=[elem for elem in accounts if elem not in list(existing_data.keys())]"
   ]
  },
  {
   "cell_type": "code",
   "execution_count": 13,
   "id": "0dd322a1",
   "metadata": {},
   "outputs": [],
   "source": [
    "def configure():\n",
    "    load_dotenv()\n",
    "configure()"
   ]
  },
  {
   "cell_type": "code",
   "execution_count": 23,
   "id": "4f76fc78",
   "metadata": {},
   "outputs": [],
   "source": [
    "def get_content(driver, username):\n",
    "    driver.get(f'https://twitter.com/{username}')\n",
    "    time.sleep(6)\n",
    "    user_name=str(os.getenv('twitter_username'))\n",
    "    password=str(os.getenv('twitter_password'))\n",
    "    driver.find_element(By.TAG_NAME, 'input').send_keys(\n",
    "            user_name\n",
    "        )\n",
    "    # Click next\n",
    "    driver.find_element(By.XPATH, \"//*[text()='Next']\").click()\n",
    "    # Input password\n",
    "    time.sleep(2)\n",
    "    driver.find_element(By.NAME, \"password\").send_keys(\n",
    "        password\n",
    "    )\n",
    "    time.sleep(2)\n",
    "    # Click login\n",
    "    driver.find_element(By.XPATH,'//div[@data-testid=\"LoginForm_Login_Button\"]').click()\n",
    "    #login.find_element(By.XPATH, \"//*[text()='Log in']\").click()\n",
    "    time.sleep(5)  # Let the page load\n",
    "    body=WebDriverWait(driver, 60).until(EC.presence_of_element_located((By.TAG_NAME,'body')))\n",
    "    #body = driver.find_element(By.TAG_NAME,'body')\n",
    "    time.sleep(2)\n",
    "    section = WebDriverWait(driver, 30).until(EC.presence_of_element_located((By.TAG_NAME,'section')))\n",
    "    num_followers=WebDriverWait(driver, 5).until(EC.presence_of_element_located((By.XPATH,'//*[@id=\"react-root\"]/div/div/div[2]/main/div/div/div/div/div/div[3]/div/div/div/div/div[5]/div[2]/a/span[1]/span')))\n",
    "    num_post_to_scrape=250\n",
    "    i=0\n",
    "    data=[{'post':\"\"}]\n",
    "    content_check=[]\n",
    "    # Scroll until the desired number of followers is reached\n",
    "    while i < num_post_to_scrape:\n",
    "        body.send_keys(Keys.PAGE_DOWN)\n",
    "        i+=1\n",
    "        time.sleep(2)\n",
    "        post=WebDriverWait(driver, 5).until(EC.presence_of_element_located((By.XPATH,'//div[@data-testid=\"cellInnerDiv\"]')))\n",
    "        #post = section.find_element(By.XPATH,'//div[@data-testid=\"cellInnerDiv\"]')\n",
    "        content=WebDriverWait(driver, 5).until(EC.presence_of_element_located((By.XPATH,'//div[@data-testid=\"tweetText\"]')))\n",
    "        #content=post.find_element(By.XPATH,'//div[@data-testid=\"tweetText\"]')\n",
    "        content_check.append(content.text.strip())\n",
    "        time.sleep(2)\n",
    "        #datetime=post.find_element(By.TAG_NAME,'time')\n",
    "        datetime=WebDriverWait(driver, 5).until(EC.presence_of_element_located((By.TAG_NAME,'time')))\n",
    "        datetime=datetime.get_attribute('datetime')\n",
    "        if (content.text.strip()!=data[-1]['post']):\n",
    "            #likes=post.find_element(By.XPATH,'//div[@role=\"group\"]')\n",
    "            likes=WebDriverWait(driver, 5).until(EC.presence_of_element_located((By.XPATH,'//div[@role=\"group\"]')))\n",
    "            engagement=likes.get_attribute('aria-label')\n",
    "            eng_=engagement.split(\",\")\n",
    "            eng_=list(map(lambda x:x.split(),eng_))\n",
    "            if engagement:\n",
    "                eng_={TextBlob(v).words.pluralize()[0] if not v.endswith('s') else v: int(k) for k,v in eng_}\n",
    "            else:\n",
    "                eng_={}\n",
    "            for e in ['comments','likes','reposts','bookmarks','views']:\n",
    "                if e not in eng_:\n",
    "                    eng_[e]=0\n",
    "            eng_['post']=content.text.strip()\n",
    "            eng_['followers']=int(num_followers.text.replace(',', '').replace(\".\",'').replace(\"K\",'00').replace('k','00'))\n",
    "            eng_['date_time']=datetime\n",
    "            data.append(eng_)\n",
    "            time.sleep(1)  # Adjust sleep time based on your internet speed\n",
    "        \n",
    "    return data "
   ]
  },
  {
   "cell_type": "code",
   "execution_count": null,
   "id": "761cbe65",
   "metadata": {},
   "outputs": [],
   "source": [
    "all_data={}\n",
    "# Set up the Selenium WebDriver\n",
    "#driver = webdriver.Chrome()\n",
    "for j,acc in enumerate(accounts):\n",
    "    driver = webdriver.Chrome()\n",
    "\n",
    "    # Replace 'target_account' with the username of the account you want to analyze\n",
    "    target_account = acc\n",
    "        \n",
    "    # Get the number of followers for the target account\n",
    "    target_engagement = get_content(driver, target_account)\n",
    "    all_data[acc]=target_engagement[1:]\n",
    "    if j%4==0:\n",
    "        if os.path.exists(\"data.json\"):\n",
    "            with open('data.json', 'r') as json_file:\n",
    "                existing_data = json.load(json_file)\n",
    "            existing_data.update(all_data)\n",
    "            with open(\"data.json\", 'w') as json_file:\n",
    "                json.dump(existing_data, json_file)\n",
    "        else:\n",
    "            with open(\"data.json\", 'w') as json_file:\n",
    "                json.dump(all_data, json_file)"
   ]
  },
  {
   "cell_type": "code",
   "execution_count": 8,
   "id": "5fb58adf",
   "metadata": {},
   "outputs": [],
   "source": [
    "with open('data.json', 'r') as json_file:\n",
    "        existing_data = json.load(json_file)"
   ]
  }
 ],
 "metadata": {
  "kernelspec": {
   "display_name": "Python 3 (ipykernel)",
   "language": "python",
   "name": "python3"
  },
  "language_info": {
   "codemirror_mode": {
    "name": "ipython",
    "version": 3
   },
   "file_extension": ".py",
   "mimetype": "text/x-python",
   "name": "python",
   "nbconvert_exporter": "python",
   "pygments_lexer": "ipython3",
   "version": "3.9.13"
  },
  "toc": {
   "base_numbering": 1,
   "nav_menu": {},
   "number_sections": true,
   "sideBar": true,
   "skip_h1_title": false,
   "title_cell": "Table of Contents",
   "title_sidebar": "Contents",
   "toc_cell": false,
   "toc_position": {},
   "toc_section_display": true,
   "toc_window_display": false
  }
 },
 "nbformat": 4,
 "nbformat_minor": 5
}
