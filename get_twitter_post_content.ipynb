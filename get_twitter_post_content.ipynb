{
 "cells": [
  {
   "cell_type": "code",
   "execution_count": 32,
   "id": "beec90a4",
   "metadata": {},
   "outputs": [],
   "source": [
    "from selenium import webdriver\n",
    "from selenium.webdriver.common.by import By\n",
    "import time\n",
    "from selenium.webdriver.common.keys import Keys\n",
    "from selenium.webdriver.support.ui import WebDriverWait \n",
    "from selenium.webdriver.support import expected_conditions as EC\n",
    "from textblob import TextBlob\n",
    "import pandas as pd\n",
    "import numpy as np\n",
    "import json\n",
    "import os"
   ]
  },
  {
   "cell_type": "code",
   "execution_count": 33,
   "id": "513f8785",
   "metadata": {},
   "outputs": [],
   "source": [
    "df=pd.read_excel(\"CANIS_PRC_state_media_on_social_media_platforms-2023-11-03.xlsx\")"
   ]
  },
  {
   "cell_type": "code",
   "execution_count": 34,
   "id": "03dc31f7",
   "metadata": {},
   "outputs": [],
   "source": [
    "df=df[((df['Region of Focus']=='Anglosphere')|(df['Region of Focus']=='Canada'))]"
   ]
  },
  {
   "cell_type": "code",
   "execution_count": 35,
   "id": "573c94c5",
   "metadata": {},
   "outputs": [],
   "source": [
    "handles=df['X (Twitter) handle'].values\n",
    "accounts=[h for h in handles if isinstance(h,str) ]"
   ]
  },
  {
   "cell_type": "code",
   "execution_count": 36,
   "id": "806fd0f5",
   "metadata": {},
   "outputs": [],
   "source": [
    "accounts.remove(\"anosiwang\")"
   ]
  },
  {
   "cell_type": "code",
   "execution_count": 11,
   "id": "1ea075fd",
   "metadata": {},
   "outputs": [],
   "source": [
    "accounts=accounts[5:]"
   ]
  },
  {
   "cell_type": "code",
   "execution_count": 38,
   "id": "4f76fc78",
   "metadata": {},
   "outputs": [],
   "source": [
    "def get_content(driver, username):\n",
    "    driver.get(f'https://twitter.com/{username}')\n",
    "    time.sleep(20)  # Let the page load\n",
    "\n",
    "    body = driver.find_element(By.TAG_NAME,'body')\n",
    "\n",
    "    section = WebDriverWait(driver, 5).until(EC.presence_of_element_located((By.TAG_NAME,'section')))\n",
    "    num_followers=WebDriverWait(driver, 5).until(EC.presence_of_element_located((By.XPATH,'//*[@id=\"react-root\"]/div/div/div[2]/main/div/div/div/div/div/div[3]/div/div/div/div/div[5]/div[2]/a/span[1]/span')))\n",
    "    num_post_to_scrape=250\n",
    "    i=0\n",
    "    data=[{'post':\"\"}]\n",
    "    content_check=[]\n",
    "    # Scroll until the desired number of followers is reached\n",
    "    while i < num_post_to_scrape:\n",
    "        body.send_keys(Keys.PAGE_DOWN)\n",
    "        i+=1\n",
    "        time.sleep(2)\n",
    "        post=WebDriverWait(driver, 5).until(EC.presence_of_element_located((By.XPATH,'//div[@data-testid=\"cellInnerDiv\"]')))\n",
    "        #post = section.find_element(By.XPATH,'//div[@data-testid=\"cellInnerDiv\"]')\n",
    "        content=WebDriverWait(driver, 5).until(EC.presence_of_element_located((By.XPATH,'//div[@data-testid=\"tweetText\"]')))\n",
    "        #content=post.find_element(By.XPATH,'//div[@data-testid=\"tweetText\"]')\n",
    "        content_check.append(content.text.strip())\n",
    "        \n",
    "        if (content.text.strip()!=data[-1]['post']):\n",
    "            #likes=post.find_element(By.XPATH,'//div[@role=\"group\"]')\n",
    "            likes=WebDriverWait(driver, 5).until(EC.presence_of_element_located((By.XPATH,'//div[@role=\"group\"]')))\n",
    "            engagement=likes.get_attribute('aria-label')\n",
    "            eng_=engagement.split(\",\")\n",
    "            eng_=list(map(lambda x:x.split(),eng_))\n",
    "            if engagement:\n",
    "                eng_={TextBlob(v).words.pluralize()[0]:int(k) for k,v in eng_}\n",
    "            else:\n",
    "                eng_={}\n",
    "            for e in ['comments','likes','reposts','bookmarks','views']:\n",
    "                if e not in eng_:\n",
    "                    eng_[e]=0\n",
    "            eng_['post']=content.text.strip()\n",
    "            eng_['followers']=int(num_followers.text.replace(',', ''))\n",
    "            data.append(eng_)\n",
    "            #engagement_dict={}\n",
    "            time.sleep(1)  # Adjust sleep time based on your internet speed\n",
    "        \n",
    "    return data "
   ]
  },
  {
   "cell_type": "code",
   "execution_count": null,
   "id": "58a15b31",
   "metadata": {},
   "outputs": [],
   "source": [
    "all_data={}\n",
    "# Set up the Selenium WebDriver\n",
    "#driver = webdriver.Chrome()\n",
    "for i,acc in enumerate(accounts):\n",
    "    driver = webdriver.Chrome()\n",
    "\n",
    "    # Replace 'target_account' with the username of the account you want to analyze\n",
    "    target_account = acc\n",
    "        \n",
    "    # Get the number of followers for the target account\n",
    "    target_engagement = get_content(driver, target_account)\n",
    "    print(target_engagement)\n",
    "    all_data[acc]=target_engagement[1:]\n",
    "    if i%4==0:\n",
    "        if os.path.exists(\"data.json\"):\n",
    "            with open('data.json', 'r') as json_file:\n",
    "                existing_data = json.load(json_file)\n",
    "            existing_data.update(all_data)\n",
    "            with open(\"data.json\", 'w') as json_file:\n",
    "                json.dump(existing_data, json_file)\n",
    "        else:\n",
    "            with open(\"data.json\", 'w') as json_file:\n",
    "                json.dump(all_data, json_file)"
   ]
  },
  {
   "cell_type": "code",
   "execution_count": null,
   "id": "ea193c34",
   "metadata": {},
   "outputs": [],
   "source": []
  }
 ],
 "metadata": {
  "kernelspec": {
   "display_name": "Python 3 (ipykernel)",
   "language": "python",
   "name": "python3"
  },
  "language_info": {
   "codemirror_mode": {
    "name": "ipython",
    "version": 3
   },
   "file_extension": ".py",
   "mimetype": "text/x-python",
   "name": "python",
   "nbconvert_exporter": "python",
   "pygments_lexer": "ipython3",
   "version": "3.9.13"
  },
  "toc": {
   "base_numbering": 1,
   "nav_menu": {},
   "number_sections": true,
   "sideBar": true,
   "skip_h1_title": false,
   "title_cell": "Table of Contents",
   "title_sidebar": "Contents",
   "toc_cell": false,
   "toc_position": {},
   "toc_section_display": true,
   "toc_window_display": false
  }
 },
 "nbformat": 4,
 "nbformat_minor": 5
}
